{
 "cells": [
  {
   "cell_type": "markdown",
   "metadata": {},
   "source": [
    "# Chadi-Cohen Tight Binding Program\n",
    "\n",
    "Originally written in 12/1999. Updated 10/2017.\n",
    "\n",
    "This program is the tight-binding program for Diamond/Zincblende\n",
    "structures that is presented in Chadi and Cohen's paper\n",
    "\"Tight-Binding Calculations of the Valence Bands of Diamond and\n",
    "Zincblende Crystals\", Phys. Stat. Soli. (b) 68, 405 (1975).  This\n",
    "program is written for diamond and zincblende structures only.\n",
    "\n",
    "Here are some sample band gaps (from Kittel) that may aid in fitting:\n",
    "\n",
    "|Material | Type | Gap (eV)|\n",
    "|---|---|------|\n",
    "|C  |  i| 5.4  |      \n",
    "|Si |  i| 1.17 |     \n",
    "|Ge |  i| 0.744|     \n",
    "|Sn |  d| 0.00 |    \n",
    "|GaAs| d| 1.52 |\n",
    "|GaP | i| 2.32 |\n",
    "|InP | d| 1.42 |\n",
    "|InAs| d| 0.43 |\n"
   ]
  },
  {
   "cell_type": "code",
   "execution_count": 38,
   "metadata": {
    "collapsed": true
   },
   "outputs": [],
   "source": [
    "%matplotlib inline\n",
    "import numpy as np\n",
    "import matplotlib.pyplot as plt\n",
    "from numpy.linalg import eigvalsh\n",
    "from collections import namedtuple\n",
    "import itertools\n",
    "\n",
    "from TB import get_kpoints, band_labels"
   ]
  },
  {
   "cell_type": "code",
   "execution_count": 26,
   "metadata": {
    "collapsed": true
   },
   "outputs": [],
   "source": [
    "from collections import namedtuple\n",
    "Material = namedtuple('Material',['Esc','Esa','Epc','Epa','Vss','Vscp','Vsap','Vxx','Vxy'])\n",
    "C = Material(0.,0.,7.40,7.40,-15.2,10.25,10.25,3.,8.3)\n",
    "Si = Material(0,0,7.2,7.2,-8.13,5.88,5.88,3.17,7.51)\n",
    "Ge = Material(0,0,8.41,8.41,-6.78,5.31,5.31,2.62,6.82)\n",
    "GaAs = Material(-6.01,-4.79,0.19,4.59,-7.00,7.28,3.70,0.93,4.72)\n",
    "ZnSe = Material(-8.92,-0.28,0.12,7.42,-6.14,5.47,4.73,0.96,4.38)"
   ]
  },
  {
   "cell_type": "code",
   "execution_count": 27,
   "metadata": {
    "collapsed": true
   },
   "outputs": [],
   "source": [
    "def get_H(kx,ky,kz,structure=Si):\n",
    "    from math import sin,cos,pi\n",
    "    e_s_c,e_s_a,e_p_c,e_p_a,v_ss,v_sc_p,v_sa_p,v_xx,v_xy = structure \n",
    "    kxp,kyp,kzp = kx*pi/2.,ky*pi/2.,kz*pi/2.# The a's cancel here\n",
    "\n",
    "    g0_real = cos(kxp)*cos(kyp)*cos(kzp)\n",
    "    g0_imag = -sin(kxp)*sin(kyp)*sin(kzp)\n",
    "    g1_real = -cos(kxp)*sin(kyp)*sin(kzp)\n",
    "    g1_imag = sin(kxp)*cos(kyp)*cos(kzp)\n",
    "    g2_real = -sin(kxp)*cos(kyp)*sin(kzp)\n",
    "    g2_imag = cos(kxp)*sin(kyp)*cos(kzp)\n",
    "    g3_real = -sin(kxp)*sin(kyp)*cos(kzp)\n",
    "    g3_imag = cos(kxp)*cos(kyp)*sin(kzp)\n",
    "      \n",
    "    # \"s\" stands for \"star\": the complex conjugate\n",
    "    g0,g0s = g0_real+g0_imag*1j,g0_real-g0_imag*1j\n",
    "    g1,g1s = g1_real+g1_imag*1j,g1_real-g1_imag*1j\n",
    "    g2,g2s = g2_real+g2_imag*1j,g2_real-g2_imag*1j\n",
    "    g3,g3s = g3_real+g3_imag*1j,g3_real-g3_imag*1j\n",
    "        \n",
    "    H = np.zeros((8,8),'D')\n",
    "\n",
    "    # Make the diagonal elements\n",
    "    H[0,0] = e_s_c\n",
    "    H[1,1] = e_s_a\n",
    "    H[2,2] = H[3,3] = H[4,4] = e_p_c\n",
    "    H[5,5] = H[6,6] = H[7,7] = e_p_a\n",
    "\n",
    "    # Make the off-diagonal parts\n",
    "    H[1,0] = v_ss*g0s\n",
    "    H[0,1] = v_ss*g0\n",
    "\n",
    "    H[2,1] = -v_sa_p*g1\n",
    "    H[1,2] = -v_sa_p*g1s\n",
    "    H[3,1] = -v_sa_p*g2\n",
    "    H[1,3] = -v_sa_p*g2s\n",
    "    H[4,1] = -v_sa_p*g3\n",
    "    H[1,4] = -v_sa_p*g3s\n",
    "\n",
    "    H[5,0] = v_sc_p*g1s\n",
    "    H[0,5] = v_sc_p*g1\n",
    "    H[6,0] = v_sc_p*g2s\n",
    "    H[0,6] = v_sc_p*g2\n",
    "    H[7,0] = v_sc_p*g3s\n",
    "    H[0,7] = v_sc_p*g3\n",
    "\n",
    "    H[5,2] = v_xx*g0s\n",
    "    H[2,5] = v_xx*g0\n",
    "    H[6,2] = v_xy*g3s\n",
    "    H[2,6] = v_xy*g3\n",
    "    H[7,2] = v_xy*g2s\n",
    "    H[2,7] = v_xy*g2\n",
    "\n",
    "    H[5,3] = v_xy*g3s\n",
    "    H[3,5] = v_xy*g3\n",
    "    H[6,3] = v_xx*g0s\n",
    "    H[3,6] = v_xx*g0\n",
    "    H[7,3] = v_xy*g1s\n",
    "    H[3,7] = v_xy*g1\n",
    "\n",
    "    H[5,4] = v_xy*g2s\n",
    "    H[4,5] = v_xy*g2\n",
    "    H[6,4] = v_xy*g1s\n",
    "    H[4,6] = v_xy*g1\n",
    "    H[7,4] = v_xx*g0s\n",
    "    H[4,7] = v_xx*g0\n",
    "    return H"
   ]
  },
  {
   "cell_type": "code",
   "execution_count": 33,
   "metadata": {
    "collapsed": true
   },
   "outputs": [],
   "source": [
    "def get_data(n=10,structure=Si):\n",
    "    data = []\n",
    "    for kx,ky,kz in get_kpoints(n):\n",
    "        H = get_H(kx,ky,kz,structure)\n",
    "        E = eigvalsh(H).real\n",
    "        data.append(E)\n",
    "    return np.array(data)"
   ]
  },
  {
   "cell_type": "code",
   "execution_count": 46,
   "metadata": {
    "collapsed": true
   },
   "outputs": [],
   "source": [
    "def band(n=25,structure=Si):\n",
    "    data = get_data(n,structure)\n",
    "    nk,nplot = data.shape\n",
    "    for i in range(nplot):\n",
    "        plt.plot(data[:,i])\n",
    "    band_labels(n)\n",
    "    plt.axis(xmax=3*n+1)\n",
    "    plt.title(\"Chadi-Cohen band structure\")\n",
    "    plt.ylabel(\"E (eV)\")\n",
    "    return\n"
   ]
  },
  {
   "cell_type": "code",
   "execution_count": 48,
   "metadata": {},
   "outputs": [
    {
     "data": {
      "image/png": "[encoded data removed]",
      "text/plain": [
       "<matplotlib.figure.Figure at 0x10d053350>"
      ]
     },
     "metadata": {},
     "output_type": "display_data"
    }
   ],
   "source": [
    "band()"
   ]
  },
  {
   "cell_type": "code",
   "execution_count": null,
   "metadata": {
    "collapsed": true
   },
   "outputs": [],
   "source": []
  }
 ],
 "metadata": {
  "kernelspec": {
   "display_name": "Python 2",
   "language": "python",
   "name": "python2"
  },
  "language_info": {
   "codemirror_mode": {
    "name": "ipython",
    "version": 2
   },
   "file_extension": ".py",
   "mimetype": "text/x-python",
   "name": "python",
   "nbconvert_exporter": "python",
   "pygments_lexer": "ipython2",
   "version": "2.7.13"
  }
 },
 "nbformat": 4,
 "nbformat_minor": 2
}
